{
  "metadata": {
    "kernelspec": {
      "display_name": "Python 3",
      "language": "python",
      "name": "python3"
    },
    "language_info": {
      "codemirror_mode": {
        "name": "ipython",
        "version": 3
      },
      "file_extension": ".py",
      "mimetype": "text/x-python",
      "name": "python",
      "nbconvert_exporter": "python",
      "pygments_lexer": "ipython3",
      "version": "3.13.2"
    },
    "kaggle": {
      "accelerator": "none",
      "dataSources": [
        {
          "sourceId": 1399887,
          "sourceType": "datasetVersion",
          "datasetId": 817870
        }
      ],
      "isInternetEnabled": true,
      "language": "python",
      "sourceType": "notebook",
      "isGpuEnabled": false
    },
    "colab": {
      "name": "fraud_detection_eda",
      "provenance": []
    }
  },
  "nbformat_minor": 0,
  "nbformat": 4,
  "cells": [
    {
      "source": [
        "# IMPORTANT: RUN THIS CELL IN ORDER TO IMPORT YOUR KAGGLE DATA SOURCES,\n",
        "# THEN FEEL FREE TO DELETE THIS CELL.\n",
        "# NOTE: THIS NOTEBOOK ENVIRONMENT DIFFERS FROM KAGGLE'S PYTHON\n",
        "# ENVIRONMENT SO THERE MAY BE MISSING LIBRARIES USED BY YOUR\n",
        "# NOTEBOOK.\n",
        "import kagglehub\n",
        "kartik2112_fraud_detection_path = kagglehub.dataset_download('kartik2112/fraud-detection')\n",
        "\n",
        "print('Data source import complete.')\n"
      ],
      "metadata": {
        "id": "mzArF4jg4B8P"
      },
      "cell_type": "code",
      "outputs": [],
      "execution_count": null
    },
    {
      "cell_type": "code",
      "source": [
        "# Standard libraries\n",
        "import pandas as pd\n",
        "from scipy.stats import chi2_contingency\n",
        "\n",
        "# Enable auto-reload for module reloading during development\n",
        "%load_ext autoreload\n",
        "%autoreload 2\n",
        "\n",
        "# Set display options for Pandas to show all columns\n",
        "pd.set_option('display.max_columns', None)\n",
        "\n",
        "# Load custom scripts\n",
        "import scripts.eda_functions as eda\n",
        "import scripts.data_cleaning as dc\n",
        "import scripts.data_check as ch\n"
      ],
      "metadata": {
        "id": "X-10cgWR4B8S"
      },
      "outputs": [],
      "execution_count": null
    },
    {
      "cell_type": "markdown",
      "source": [
        "# Data Quality Analysis (Data Cleaning and Manipulation)"
      ],
      "metadata": {
        "id": "UXmgMkft4B8T"
      }
    },
    {
      "cell_type": "code",
      "source": [
        "# Load dataset\n",
        "transactions = pd.read_csv('data/fraudTest.csv')"
      ],
      "metadata": {
        "id": "dCXk1XA_4B8U"
      },
      "outputs": [],
      "execution_count": null
    },
    {
      "cell_type": "code",
      "source": [
        "# First look at the first few rows of the dataset\n",
        "transactions.head(5)"
      ],
      "metadata": {
        "id": "HO3SVJTj4B8U"
      },
      "outputs": [],
      "execution_count": null
    },
    {
      "cell_type": "code",
      "source": [
        "# Check data types, number of missing values, duplicates, and unique values\n",
        "ch.check(transactions)\n",
        "\n",
        "# Good news: There are no missing values or duplicate records!"
      ],
      "metadata": {
        "id": "fJs9-5lX4B8U"
      },
      "outputs": [],
      "execution_count": null
    },
    {
      "cell_type": "code",
      "source": [
        "# Formatting column names using snake case\n",
        "transactions_clean = dc.snake(transactions)\n",
        "\n",
        "# Dropping unnecessary columns:\n",
        "# - 'unnamed:_0' is redundant as it is equivalent to the index column.\n",
        "# - 'unix_time' is not needed since the transaction date and time are already in a separate column.\n",
        "transactions_clean = dc.drop_col(transactions_clean, [\"unnamed:_0\", \"unix_time\", \"trans_num\"])\n",
        "\n",
        "# Removing the word 'fraud_' from the beginning of the merchant names\n",
        "transactions_clean = dc.remove_prefix_from_column(transactions_clean, 'merchant', 'fraud_')\n",
        "\n",
        "# Cleaning the 'category' column by removing underscores and capitalizing the names\n",
        "transactions_clean = dc.clean_category_column(transactions_clean, 'category')\n",
        "\n",
        "# Gender in long format\n",
        "transactions_clean = dc.clean_gender_column(transactions_clean)\n",
        "\n",
        "# State in long format (expanding abbreviations)\n",
        "transactions_clean = dc.replace_state_abbreviations(transactions_clean)\n",
        "\n",
        "# Convert 'trans_date_trans_time' and 'dob' (date of birth) to datetime format\n",
        "transactions_clean = dc.convert_to_datetime(transactions_clean, ['trans_date_trans_time', 'dob'])\n",
        "\n",
        "# Add age column based on 'dob'\n",
        "transactions_clean = dc.age_calculator(transactions_clean)\n",
        "\n",
        "# Adding hour, day, month, day of the week columns to the data frame\n",
        "transactions_clean = dc.preprocess_datetime(transactions_clean)\n",
        "\n",
        "# Let's check these changes\n",
        "transactions_clean.head(5)"
      ],
      "metadata": {
        "id": "9a9X8uOm4B8U"
      },
      "outputs": [],
      "execution_count": null
    },
    {
      "cell_type": "code",
      "source": [
        "# Re-checking the data types of the transactions_clean DataFrame\n",
        "ch.check(transactions_clean)"
      ],
      "metadata": {
        "id": "398Xe9Mn4B8V"
      },
      "outputs": [],
      "execution_count": null
    },
    {
      "cell_type": "code",
      "source": [
        "# Save the cleaned DataFrame to a new CSV file\n",
        "transactions_clean.to_csv('data/cleaned_transactions.csv', index=False)"
      ],
      "metadata": {
        "id": "SPPLUQFG4B8V"
      },
      "outputs": [],
      "execution_count": null
    },
    {
      "cell_type": "code",
      "source": [
        "# Save a copy for Tableau\n",
        "transactions_clean.to_csv('data/fraud_detection_project_tableau.csv', index=True)"
      ],
      "metadata": {
        "id": "NbhKOI8d4B8V"
      },
      "outputs": [],
      "execution_count": null
    },
    {
      "cell_type": "code",
      "source": [
        "# Import the cleaned CSV file into a new DataFrame\n",
        "df = pd.read_csv('data/cleaned_transactions.csv')\n"
      ],
      "metadata": {
        "id": "UCstWBWz4B8V"
      },
      "outputs": [],
      "execution_count": null
    },
    {
      "cell_type": "code",
      "source": [
        "# A look at the first few rows of the cleaned dataset\n",
        "df.head(5)"
      ],
      "metadata": {
        "id": "RmNOFQPV4B8W"
      },
      "outputs": [],
      "execution_count": null
    },
    {
      "cell_type": "code",
      "source": [
        "# Convert 'trans_date_trans_time' and 'dob' (date of birth) to datetime in the new DataFrame\n",
        "df = dc.convert_to_datetime(df, ['trans_date_trans_time', 'dob'])\n",
        "\n",
        "# Convert date_of_week to a categorica column in the new DataFrame\n",
        "df = dc.preprocess_datetime(df)"
      ],
      "metadata": {
        "id": "LVlh_tPr4B8W"
      },
      "outputs": [],
      "execution_count": null
    },
    {
      "cell_type": "code",
      "source": [
        "# Re-checking the data types of the cleaned DataFrame\n",
        "ch.check(df)"
      ],
      "metadata": {
        "id": "bW6j0syV4B8W"
      },
      "outputs": [],
      "execution_count": null
    },
    {
      "cell_type": "markdown",
      "source": [
        "# Analysis of the Data (EDA and Descriptive Statistics)"
      ],
      "metadata": {
        "id": "DJoxLXKv4B8W"
      }
    },
    {
      "cell_type": "markdown",
      "source": [
        "## Fraud vs. Non-Fraud Analysis"
      ],
      "metadata": {
        "id": "Pehnpmwf4B8W"
      }
    },
    {
      "cell_type": "markdown",
      "source": [
        "### 1.  What percentage of transactions in the dataset are fraudulent?"
      ],
      "metadata": {
        "id": "v_jt9U7M4B8W"
      }
    },
    {
      "cell_type": "code",
      "source": [
        "frequency_table, frequency_table_total = eda.calculate_fraud_percentage(df)\n",
        "print(f'The percentage of fraud is {frequency_table[\"Relative frequency\"].iloc[0]} % '\n",
        "      f'and the percentage of non-fraud is {frequency_table[\"Relative frequency\"].iloc[1].round(2)} %')\n",
        "frequency_table_total"
      ],
      "metadata": {
        "id": "fla0-zDS4B8W"
      },
      "outputs": [],
      "execution_count": null
    },
    {
      "cell_type": "code",
      "source": [
        "eda.plot_fraud_percentage(df)"
      ],
      "metadata": {
        "id": "BcQOrhFG4B8W"
      },
      "outputs": [],
      "execution_count": null
    },
    {
      "cell_type": "code",
      "source": [
        "eda.plot_fraud_frequency_by_card(df)"
      ],
      "metadata": {
        "id": "e9Xb2HZA4B8X"
      },
      "outputs": [],
      "execution_count": null
    },
    {
      "cell_type": "markdown",
      "source": [
        "### 2.  What are the average amounts of fraud vs. non-fraud transactions?"
      ],
      "metadata": {
        "id": "Lb35DiT74B8X"
      }
    },
    {
      "cell_type": "code",
      "source": [
        "avg_transaction_amounts = eda.analyze_transaction_amounts(df)\n",
        "avg_transaction_amounts"
      ],
      "metadata": {
        "id": "LbnXaqqW4B8X"
      },
      "outputs": [],
      "execution_count": null
    },
    {
      "cell_type": "code",
      "source": [
        "fraud_stats = eda.fraud_statistics(df)\n",
        "fraud_stats"
      ],
      "metadata": {
        "id": "hfH-AJTG4B8X"
      },
      "outputs": [],
      "execution_count": null
    },
    {
      "cell_type": "code",
      "source": [
        "eda.plot_fraud_transaction_amounts(df, False)"
      ],
      "metadata": {
        "id": "0jm9Irfr4B8X"
      },
      "outputs": [],
      "execution_count": null
    },
    {
      "cell_type": "code",
      "source": [
        "eda.plot_fraud_transaction_amounts(df, True)"
      ],
      "metadata": {
        "id": "QIQfkmNZ4B8X"
      },
      "outputs": [],
      "execution_count": null
    },
    {
      "cell_type": "code",
      "source": [
        "# Calculate the Skewness for Non-Fraud Transactions\n",
        "df[df['is_fraud'] == 'Non-Fraud']['amt'].skew().round(2)\n",
        "\n",
        "# The distribution is positively skewed (or right-skewed), meaning there is a longer tail on the right side of the distribution.\n",
        "# The mass of the distribution is concentrated on the left of the figure with large amount of outliers with large values\n"
      ],
      "metadata": {
        "id": "CigQH8By4B8X"
      },
      "outputs": [],
      "execution_count": null
    },
    {
      "cell_type": "code",
      "source": [
        "# Calculate the Kurtosis for Non-Fraud Transactions\n",
        "df[df['is_fraud'] == 'Non-Fraud']['amt'].kurtosis().round(2)\n",
        "\n",
        "# Kurtosis > 0 : The distribution is leptokurtic.\n",
        "# It has fatter tails and a sharper peak than the normal distribution, indicating more extreme values (outliers) than expected in a normal distribution."
      ],
      "metadata": {
        "id": "1Opi1hOl4B8X"
      },
      "outputs": [],
      "execution_count": null
    },
    {
      "cell_type": "markdown",
      "source": [
        "## Fraud Trends Over Time"
      ],
      "metadata": {
        "id": "GjErCdg64B8X"
      }
    },
    {
      "cell_type": "markdown",
      "source": [
        "### 3.  Do fraud transactions spike at certain hours of the day?"
      ],
      "metadata": {
        "id": "2th_DAQ14B8X"
      }
    },
    {
      "cell_type": "code",
      "source": [
        "# Non-Fraud and Fraud Transactions counts by hour\n",
        "fraud_counts = eda.fraud_trends(df, 'hour')\n",
        "fraud_counts"
      ],
      "metadata": {
        "id": "i27Q_msR4B8X"
      },
      "outputs": [],
      "execution_count": null
    },
    {
      "cell_type": "code",
      "source": [
        "# Mean of Non-Fraud and Fraud Transactions by hour\n",
        "fraud_counts = eda.fraud_trends(df, 'hour','mean')\n",
        "fraud_counts"
      ],
      "metadata": {
        "id": "ENZoxN5S4B8Y"
      },
      "outputs": [],
      "execution_count": null
    },
    {
      "cell_type": "code",
      "source": [
        "eda.plot_fraud_trends(df, 'hour')"
      ],
      "metadata": {
        "id": "9oGzSj2Q4B8Y"
      },
      "outputs": [],
      "execution_count": null
    },
    {
      "cell_type": "code",
      "source": [
        "eda.plot_fraud_rate_by_time(df, 'hour')\n"
      ],
      "metadata": {
        "id": "yR58VZd64B8Y"
      },
      "outputs": [],
      "execution_count": null
    },
    {
      "cell_type": "code",
      "source": [
        "eda.plot_fraud_trends(df, 'hour', 'mean')"
      ],
      "metadata": {
        "id": "mI_y_gaB4B8Y"
      },
      "outputs": [],
      "execution_count": null
    },
    {
      "cell_type": "code",
      "source": [
        "eda.plot_fraud_trends_same_axes(df, 'hour', 'mean')"
      ],
      "metadata": {
        "id": "9JF4jKAP4B8Y"
      },
      "outputs": [],
      "execution_count": null
    },
    {
      "cell_type": "code",
      "source": [
        "eda.plot_fraud_boxplots(df)"
      ],
      "metadata": {
        "id": "A6GcNZR64B8Y"
      },
      "outputs": [],
      "execution_count": null
    },
    {
      "cell_type": "code",
      "source": [
        "eda.plot_fraud_trends_same_axes(df, 'hour', 'mode')"
      ],
      "metadata": {
        "id": "Sd-I3I_o4B8Y"
      },
      "outputs": [],
      "execution_count": null
    },
    {
      "cell_type": "code",
      "source": [
        "eda.plot_fraud_trends_same_axes(df, 'hour', 'max')"
      ],
      "metadata": {
        "id": "spsiog7V4B8Y"
      },
      "outputs": [],
      "execution_count": null
    },
    {
      "cell_type": "code",
      "source": [
        "eda.plot_fraud_trends(df, 'hour', 'max')"
      ],
      "metadata": {
        "id": "TJtdjpi54B8Y"
      },
      "outputs": [],
      "execution_count": null
    },
    {
      "cell_type": "code",
      "source": [
        "eda.plot_fraud_trends_same_axes(df, 'hour', 'min')"
      ],
      "metadata": {
        "id": "KkKgdx8c4B8c"
      },
      "outputs": [],
      "execution_count": null
    },
    {
      "cell_type": "markdown",
      "source": [
        "### 4. Do fraud transactions spike at certain day of the month?"
      ],
      "metadata": {
        "id": "BHM7ayOi4B8d"
      }
    },
    {
      "cell_type": "code",
      "source": [
        "fraud_counts = eda.fraud_trends(df, 'day')\n",
        "fraud_counts"
      ],
      "metadata": {
        "id": "eKWfH8oM4B8d"
      },
      "outputs": [],
      "execution_count": null
    },
    {
      "cell_type": "code",
      "source": [
        "eda.plot_fraud_trends(df, 'day')"
      ],
      "metadata": {
        "id": "rZlyrDk24B8d"
      },
      "outputs": [],
      "execution_count": null
    },
    {
      "cell_type": "code",
      "source": [
        "eda.plot_fraud_rate_by_time(df, 'day')"
      ],
      "metadata": {
        "id": "lTLEGiQT4B8d"
      },
      "outputs": [],
      "execution_count": null
    },
    {
      "cell_type": "code",
      "source": [
        "eda.plot_fraud_trends(df, 'day', 'mean')"
      ],
      "metadata": {
        "id": "5RPSnU3j4B8d"
      },
      "outputs": [],
      "execution_count": null
    },
    {
      "cell_type": "code",
      "source": [
        "eda.plot_fraud_trends_same_axes(df, 'day', 'mean')"
      ],
      "metadata": {
        "id": "Q58iT5Gd4B8d"
      },
      "outputs": [],
      "execution_count": null
    },
    {
      "cell_type": "code",
      "source": [
        "eda.plot_fraud_trends_same_axes(df, 'day', 'median')"
      ],
      "metadata": {
        "id": "hlyj1jgH4B8d"
      },
      "outputs": [],
      "execution_count": null
    },
    {
      "cell_type": "code",
      "source": [
        "eda.plot_fraud_trends_same_axes(df, 'day', 'mode')"
      ],
      "metadata": {
        "id": "MdAMU1m64B8d"
      },
      "outputs": [],
      "execution_count": null
    },
    {
      "cell_type": "code",
      "source": [
        "eda.plot_fraud_trends_same_axes(df, 'day', 'max')"
      ],
      "metadata": {
        "id": "wIznOJWm4B8d"
      },
      "outputs": [],
      "execution_count": null
    },
    {
      "cell_type": "code",
      "source": [
        "eda.plot_fraud_trends_same_axes(df, 'day', 'min')"
      ],
      "metadata": {
        "id": "J9_hOuRq4B8d"
      },
      "outputs": [],
      "execution_count": null
    },
    {
      "cell_type": "code",
      "source": [
        "eda.plot_fraud_heatmap(df, 'day', 'hour')"
      ],
      "metadata": {
        "id": "iF9ynPY84B8d"
      },
      "outputs": [],
      "execution_count": null
    },
    {
      "cell_type": "code",
      "source": [
        "eda.plot_fraud_heatmap_statistic(df, 'day', 'hour','mean')"
      ],
      "metadata": {
        "id": "Y_wnQuRu4B8d"
      },
      "outputs": [],
      "execution_count": null
    },
    {
      "cell_type": "markdown",
      "source": [
        "### 5. Do fraud transactions spike at certain day of the week?"
      ],
      "metadata": {
        "id": "RAadpGUr4B8d"
      }
    },
    {
      "cell_type": "code",
      "source": [
        "fraud_counts = eda.fraud_trends(df, 'day_of_week')\n",
        "fraud_counts"
      ],
      "metadata": {
        "id": "SMoCU7PT4B8e"
      },
      "outputs": [],
      "execution_count": null
    },
    {
      "cell_type": "code",
      "source": [
        "eda.plot_fraud_trends(df, 'day_of_week')"
      ],
      "metadata": {
        "id": "1ono6k-f4B8e"
      },
      "outputs": [],
      "execution_count": null
    },
    {
      "cell_type": "code",
      "source": [
        "eda.plot_fraud_rate_by_time(df, 'day_of_week')"
      ],
      "metadata": {
        "id": "QRl_daez4B8e"
      },
      "outputs": [],
      "execution_count": null
    },
    {
      "cell_type": "code",
      "source": [
        "eda.plot_fraud_trends(df, 'day_of_week', 'mean')"
      ],
      "metadata": {
        "id": "IPkg2Xyk4B8e"
      },
      "outputs": [],
      "execution_count": null
    },
    {
      "cell_type": "code",
      "source": [
        "eda.plot_fraud_trends_same_axes(df, 'day_of_week', 'mean')"
      ],
      "metadata": {
        "id": "aegKKv2Z4B8e"
      },
      "outputs": [],
      "execution_count": null
    },
    {
      "cell_type": "code",
      "source": [
        "eda.plot_fraud_boxplots_time(df, 'day_of_week')"
      ],
      "metadata": {
        "id": "tHcjFBKd4B8e"
      },
      "outputs": [],
      "execution_count": null
    },
    {
      "cell_type": "code",
      "source": [
        "eda.plot_fraud_trends(df, 'day_of_week', 'median')"
      ],
      "metadata": {
        "id": "UJTMfTMG4B8e"
      },
      "outputs": [],
      "execution_count": null
    },
    {
      "cell_type": "code",
      "source": [
        "eda.plot_fraud_trends(df, 'day_of_week', 'mode')"
      ],
      "metadata": {
        "id": "sSWEIIk-4B8e"
      },
      "outputs": [],
      "execution_count": null
    },
    {
      "cell_type": "code",
      "source": [
        "eda.plot_fraud_trends(df, 'day_of_week', 'max')"
      ],
      "metadata": {
        "id": "WXyf5NtK4B8e"
      },
      "outputs": [],
      "execution_count": null
    },
    {
      "cell_type": "code",
      "source": [
        "eda.plot_fraud_trends(df, 'day_of_week', 'min')"
      ],
      "metadata": {
        "id": "0N2XC04n4B8e"
      },
      "outputs": [],
      "execution_count": null
    },
    {
      "cell_type": "code",
      "source": [
        "eda.plot_fraud_heatmap(df, 'day_of_week', 'hour')"
      ],
      "metadata": {
        "id": "p9COs9Tc4B8e"
      },
      "outputs": [],
      "execution_count": null
    },
    {
      "cell_type": "code",
      "source": [
        "# Chi-square tests to test the independence of time and hour in the fraud rates\n",
        "crosstab_result =  pd.crosstab(df[df['is_fraud'] == 1]['hour'], df[df['is_fraud'] == 1]['day_of_week'])\n",
        "chi2_stats, chi2_pvalue, _, _ = chi2_contingency(crosstab_result)\n",
        "chi2_pvalue\n",
        "\n",
        "# A p-value > 0.05, indicates that there is not enough evidence to conclude a significant association between the variables."
      ],
      "metadata": {
        "id": "_ukLSgm64B8e"
      },
      "outputs": [],
      "execution_count": null
    },
    {
      "cell_type": "code",
      "source": [
        "eda.plot_fraud_heatmap_statistic(df, 'day_of_week', 'hour','mean')"
      ],
      "metadata": {
        "id": "kRF_MuL74B8f"
      },
      "outputs": [],
      "execution_count": null
    },
    {
      "cell_type": "code",
      "source": [
        "# Correlation matrix to visualizes correlation coefficients between pairs of continuous variables using color gradients.\n",
        "eda.plot_correlation_heatmap(df)"
      ],
      "metadata": {
        "id": "eVexoN594B8f"
      },
      "outputs": [],
      "execution_count": null
    },
    {
      "cell_type": "markdown",
      "source": [
        "### 6.  Are there seasonal trends in fraud?"
      ],
      "metadata": {
        "id": "MN47u9YJ4B8f"
      }
    },
    {
      "cell_type": "code",
      "source": [
        "fraud_counts = eda.fraud_trends(df, 'month')\n",
        "fraud_counts"
      ],
      "metadata": {
        "id": "jzqGdYgo4B8f"
      },
      "outputs": [],
      "execution_count": null
    },
    {
      "cell_type": "code",
      "source": [
        "eda.plot_fraud_trends(df, 'month')"
      ],
      "metadata": {
        "id": "--d6zcfq4B8f"
      },
      "outputs": [],
      "execution_count": null
    },
    {
      "cell_type": "code",
      "source": [
        "eda.plot_fraud_rate_by_time(df, 'month')"
      ],
      "metadata": {
        "id": "VWgLGARW4B8f"
      },
      "outputs": [],
      "execution_count": null
    },
    {
      "cell_type": "code",
      "source": [
        "eda.plot_fraud_trends(df, 'month', 'mean')"
      ],
      "metadata": {
        "id": "zAJXLyVe4B8f"
      },
      "outputs": [],
      "execution_count": null
    },
    {
      "cell_type": "code",
      "source": [
        "eda.plot_fraud_trends_same_axes(df, 'month', 'mean')"
      ],
      "metadata": {
        "id": "HFLyOUJz4B8f"
      },
      "outputs": [],
      "execution_count": null
    },
    {
      "cell_type": "code",
      "source": [
        "eda.plot_fraud_boxplots_time(df, 'month')"
      ],
      "metadata": {
        "id": "NEejnUmD4B8f"
      },
      "outputs": [],
      "execution_count": null
    },
    {
      "cell_type": "code",
      "source": [
        "eda.plot_fraud_trends(df, 'month', 'median')"
      ],
      "metadata": {
        "id": "US4K_ZNT4B8f"
      },
      "outputs": [],
      "execution_count": null
    },
    {
      "cell_type": "code",
      "source": [
        "eda.plot_fraud_trends(df, 'month', 'mode')"
      ],
      "metadata": {
        "id": "rc2Wm-KF4B8g"
      },
      "outputs": [],
      "execution_count": null
    },
    {
      "cell_type": "code",
      "source": [
        "eda.plot_fraud_trends(df, 'month', 'max')"
      ],
      "metadata": {
        "id": "y5aJxeIn4B8g"
      },
      "outputs": [],
      "execution_count": null
    },
    {
      "cell_type": "code",
      "source": [
        "eda.plot_fraud_trends(df, 'month', 'min')"
      ],
      "metadata": {
        "id": "awXD71Vs4B8g"
      },
      "outputs": [],
      "execution_count": null
    },
    {
      "cell_type": "code",
      "source": [
        "eda.plot_fraud_heatmap(df, 'month', 'hour')"
      ],
      "metadata": {
        "id": "TedAGfaa4B8g"
      },
      "outputs": [],
      "execution_count": null
    },
    {
      "cell_type": "code",
      "source": [
        "eda.plot_fraud_heatmap(df, 'month', 'day_of_week')"
      ],
      "metadata": {
        "id": "K3w-EIBR4B8g"
      },
      "outputs": [],
      "execution_count": null
    },
    {
      "cell_type": "code",
      "source": [
        "eda.plot_fraud_heatmap_statistic(df, 'month', 'day_of_week', 'mean')"
      ],
      "metadata": {
        "id": "lRAzfuHQ4B8g"
      },
      "outputs": [],
      "execution_count": null
    },
    {
      "cell_type": "markdown",
      "source": [
        "##  Risky Transaction Types"
      ],
      "metadata": {
        "id": "RKlZYnXG4B8g"
      }
    },
    {
      "cell_type": "markdown",
      "source": [
        "### 7. What merchant category have the highest fraud rates?"
      ],
      "metadata": {
        "id": "YkAKvsh34B8g"
      }
    },
    {
      "cell_type": "code",
      "source": [
        "stats_df = eda.create_fraud_statistics_table(df)\n",
        "stats_df"
      ],
      "metadata": {
        "id": "pgEhoSgD4B8g"
      },
      "outputs": [],
      "execution_count": null
    },
    {
      "cell_type": "code",
      "source": [
        "eda.plot_high_risk_transaction_types(df, 'merchant')"
      ],
      "metadata": {
        "id": "5O-qYXhr4B8g"
      },
      "outputs": [],
      "execution_count": null
    },
    {
      "cell_type": "code",
      "source": [
        "eda.plot_high_risk_transaction_types(df, 'category')"
      ],
      "metadata": {
        "id": "ojm23CuD4B8g"
      },
      "outputs": [],
      "execution_count": null
    },
    {
      "cell_type": "code",
      "source": [
        "eda.plot_high_risk_transaction_types_fre(df, 'category')"
      ],
      "metadata": {
        "id": "bBgou3LA4B8g"
      },
      "outputs": [],
      "execution_count": null
    },
    {
      "cell_type": "code",
      "source": [
        "fraud_counts = eda.plot_donut_histogram_by_net_pos_fraud_only(df, 'category')\n",
        "fraud_counts"
      ],
      "metadata": {
        "id": "T0nqqb7T4B8h"
      },
      "outputs": [],
      "execution_count": null
    },
    {
      "cell_type": "markdown",
      "source": [
        "### 8. How do fraud and non-fraud transactions compare across merchant categories?"
      ],
      "metadata": {
        "id": "5ciGBQ_M4B8h"
      }
    },
    {
      "cell_type": "code",
      "source": [
        "eda.plot_fraud_vs_nonfraud_means(df, 'category')"
      ],
      "metadata": {
        "id": "IgOFgp5U4B8h"
      },
      "outputs": [],
      "execution_count": null
    },
    {
      "cell_type": "code",
      "source": [
        "eda.plot_fraud_boxplots_time(df, 'category')"
      ],
      "metadata": {
        "id": "waadLxwg4B8h"
      },
      "outputs": [],
      "execution_count": null
    },
    {
      "cell_type": "markdown",
      "source": [
        "### 9. When do fraud transactions occur most often in each category?"
      ],
      "metadata": {
        "id": "_y6_fel34B8h"
      }
    },
    {
      "cell_type": "code",
      "source": [
        "eda.plot_fraud_heatmap(df, 'category', 'hour')"
      ],
      "metadata": {
        "id": "IAGZOPw_4B8h"
      },
      "outputs": [],
      "execution_count": null
    },
    {
      "cell_type": "code",
      "source": [
        "eda.plot_fraud_heatmap(df, 'category', 'day')"
      ],
      "metadata": {
        "id": "_Pl8CEbl4B8h"
      },
      "outputs": [],
      "execution_count": null
    },
    {
      "cell_type": "code",
      "source": [
        "eda.plot_fraud_heatmap(df, 'category', 'day_of_week')"
      ],
      "metadata": {
        "id": "xv1016Sd4B8h"
      },
      "outputs": [],
      "execution_count": null
    },
    {
      "cell_type": "code",
      "source": [
        "eda.plot_fraud_heatmap(df, 'category', 'month')"
      ],
      "metadata": {
        "id": "W-ZhZ1cK4B8h"
      },
      "outputs": [],
      "execution_count": null
    },
    {
      "cell_type": "code",
      "source": [
        "eda.plot_fraud_heatmap_statistic(df, 'category', 'month', 'mean')"
      ],
      "metadata": {
        "id": "0mEebPz24B8h"
      },
      "outputs": [],
      "execution_count": null
    },
    {
      "cell_type": "markdown",
      "source": [
        "## Geographical Fraud Distribution"
      ],
      "metadata": {
        "id": "_Qadk2UZ4B8h"
      }
    },
    {
      "cell_type": "markdown",
      "source": [
        "### 10. Do fraud transactions happen more in specific locations?"
      ],
      "metadata": {
        "id": "KJT3LjH_4B8h"
      }
    },
    {
      "cell_type": "code",
      "source": [
        "eda.plot_high_risk_transaction_types(df, 'city')"
      ],
      "metadata": {
        "id": "Ahc9umBO4B8h"
      },
      "outputs": [],
      "execution_count": null
    },
    {
      "cell_type": "code",
      "source": [
        "eda.plot_high_risk_transaction_types_fre(df, 'city')"
      ],
      "metadata": {
        "id": "46QnDmDS4B8h"
      },
      "outputs": [],
      "execution_count": null
    },
    {
      "cell_type": "code",
      "source": [
        "eda.plot_high_risk_transaction_types(df, 'state')"
      ],
      "metadata": {
        "id": "3Qo9gKTE4B8h"
      },
      "outputs": [],
      "execution_count": null
    },
    {
      "cell_type": "code",
      "source": [
        "eda.plot_high_risk_transaction_types_fre(df, 'state')"
      ],
      "metadata": {
        "id": "D2Wq3kIL4B8h"
      },
      "outputs": [],
      "execution_count": null
    },
    {
      "cell_type": "code",
      "source": [
        "eda.plot_fraud_vs_nonfraud_means(df, 'city')"
      ],
      "metadata": {
        "id": "j_IvuOPR4B8i"
      },
      "outputs": [],
      "execution_count": null
    },
    {
      "cell_type": "code",
      "source": [
        "eda.plot_fraud_vs_nonfraud_means(df, 'state')"
      ],
      "metadata": {
        "id": "XvjMOzyV4B8i"
      },
      "outputs": [],
      "execution_count": null
    },
    {
      "cell_type": "code",
      "source": [
        "eda.plot_fraud_heatmap(df, 'state', 'hour')"
      ],
      "metadata": {
        "id": "Y9T-TBFV4B8i"
      },
      "outputs": [],
      "execution_count": null
    },
    {
      "cell_type": "markdown",
      "source": [
        "## Customer Characteristics and Fraud"
      ],
      "metadata": {
        "id": "YoDXAjFA4B8i"
      }
    },
    {
      "cell_type": "markdown",
      "source": [
        "### 11. Are certain users or accounts more frequently targeted?"
      ],
      "metadata": {
        "id": "wUeZFINQ4B8i"
      }
    },
    {
      "cell_type": "code",
      "source": [
        "eda.plot_gender_fraud_and_box_plots(df)"
      ],
      "metadata": {
        "id": "Pip_5iuP4B8i"
      },
      "outputs": [],
      "execution_count": null
    },
    {
      "cell_type": "code",
      "source": [
        "eda.plot_fraud_vs_nonfraud_age(df)"
      ],
      "metadata": {
        "id": "nDhhW1X74B8i"
      },
      "outputs": [],
      "execution_count": null
    },
    {
      "cell_type": "code",
      "source": [
        "eda.plot_fraud_vs_nonfraud_age_violin(df)"
      ],
      "metadata": {
        "id": "R1uFEomy4B8i"
      },
      "outputs": [],
      "execution_count": null
    },
    {
      "cell_type": "code",
      "source": [
        "eda.plot_age_grouped_fraud_nonfraud(df)\n"
      ],
      "metadata": {
        "id": "t9BVzTos4B8i"
      },
      "outputs": [],
      "execution_count": null
    }
  ]
}